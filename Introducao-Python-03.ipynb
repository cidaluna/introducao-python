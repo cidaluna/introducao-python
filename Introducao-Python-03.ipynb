{
 "cells": [
  {
   "cell_type": "markdown",
   "metadata": {},
   "source": [
    "# Introdução - Lógica de Programação - Python 03"
   ]
  },
  {
   "cell_type": "markdown",
   "metadata": {},
   "source": [
    "## Tipos em uma lista"
   ]
  },
  {
   "cell_type": "code",
   "execution_count": 1,
   "metadata": {},
   "outputs": [
    {
     "name": "stdout",
     "output_type": "stream",
     "text": [
      "O elemento Cida é do tipo:  <class 'str'>\n",
      "O elemento 34 é do tipo:  <class 'int'>\n",
      "O elemento True é do tipo:  <class 'bool'>\n",
      "O elemento 18 é do tipo:  <class 'str'>\n"
     ]
    }
   ],
   "source": [
    "lista = ['Cida', 34, True, '18']\n",
    "\n",
    "for elemento in lista:\n",
    "    print(f'O elemento {elemento} é do tipo: ', type(elemento))"
   ]
  },
  {
   "cell_type": "code",
   "execution_count": 2,
   "metadata": {},
   "outputs": [
    {
     "name": "stdout",
     "output_type": "stream",
     "text": [
      "['a', 'b', 'c', 1, 2, 3]\n"
     ]
    }
   ],
   "source": [
    "# Juntar duas listas numa terceira lista:\n",
    "lista1 = ['a','b','c']\n",
    "lista2 = [1, 2, 3]\n",
    "\n",
    "lista3 = lista1 + lista2\n",
    "print(lista3)"
   ]
  },
  {
   "cell_type": "code",
   "execution_count": 3,
   "metadata": {},
   "outputs": [
    {
     "name": "stdout",
     "output_type": "stream",
     "text": [
      "['a', 'b', 'c', 1, 2, 3]\n"
     ]
    }
   ],
   "source": [
    "# Unir lista2 a lista 1:\n",
    "lista1 = ['a','b','c']\n",
    "lista2 = [1, 2, 3]\n",
    "\n",
    "for i in lista2:\n",
    "    lista1.append(i)\n",
    "print(lista1)"
   ]
  },
  {
   "cell_type": "markdown",
   "metadata": {},
   "source": [
    "## Utilizando lambda"
   ]
  },
  {
   "cell_type": "code",
   "execution_count": 4,
   "metadata": {},
   "outputs": [],
   "source": [
    "# Syntax lambda function\n",
    "# lambda arguments : expression"
   ]
  },
  {
   "cell_type": "code",
   "execution_count": 5,
   "metadata": {},
   "outputs": [
    {
     "name": "stdout",
     "output_type": "stream",
     "text": [
      "20\n"
     ]
    }
   ],
   "source": [
    "# somar 19 e retornar o resultado\n",
    "x = lambda a : a + 19\n",
    "print(x(1))"
   ]
  },
  {
   "cell_type": "code",
   "execution_count": 6,
   "metadata": {},
   "outputs": [
    {
     "name": "stdout",
     "output_type": "stream",
     "text": [
      "18\n"
     ]
    }
   ],
   "source": [
    "# multiplicar o argumento a pelo b, e retornar o resultado\n",
    "x = lambda a, b : a * b\n",
    "print(x(2,9))"
   ]
  },
  {
   "cell_type": "code",
   "execution_count": 7,
   "metadata": {},
   "outputs": [
    {
     "name": "stdout",
     "output_type": "stream",
     "text": [
      "['Ane', 'Cida', 'Mara', 'Jonas', 'Chico', 'Aurora', 'Nabucodosor']\n"
     ]
    }
   ],
   "source": [
    "# ordenar nomes por tamanho\n",
    "nomes = ['Cida', 'Nabucodosor', 'Jonas', 'Mara', 'Ane', 'Chico','Aurora']\n",
    "nomes.sort(key = lambda x : len(x))\n",
    "print(nomes)"
   ]
  },
  {
   "cell_type": "code",
   "execution_count": 8,
   "metadata": {},
   "outputs": [
    {
     "data": {
      "text/plain": [
       "30"
      ]
     },
     "execution_count": 8,
     "metadata": {},
     "output_type": "execute_result"
    }
   ],
   "source": [
    "# somando numeros inteiros com a funcao lambda\n",
    "soma = lambda num1, num2 : num1 + num2\n",
    "soma(10,20)"
   ]
  },
  {
   "cell_type": "code",
   "execution_count": 9,
   "metadata": {},
   "outputs": [
    {
     "data": {
      "text/plain": [
       "10"
      ]
     },
     "execution_count": 9,
     "metadata": {},
     "output_type": "execute_result"
    }
   ],
   "source": [
    "# calculando o dobro de um numero com a funcao lambda\n",
    "dobro = lambda num : num * 2\n",
    "dobro(5)"
   ]
  },
  {
   "cell_type": "code",
   "execution_count": 10,
   "metadata": {},
   "outputs": [
    {
     "name": "stdout",
     "output_type": "stream",
     "text": [
      "[2, 4, 6, 8, 10, 12, 14, 0, 100, 200]\n"
     ]
    }
   ],
   "source": [
    "# define uma lista\n",
    "lista_de_numeros = [1,2,3,4,5,6,7,0,50,100]\n",
    "\n",
    "# cria uma variavel que recebe uma lista e calcula para cada elemento o seu dobro\n",
    "calcula_dobro = list(map(lambda x : x * 2, lista_de_numeros))\n",
    "\n",
    "# imprime a lista resultante\n",
    "print(calcula_dobro)"
   ]
  },
  {
   "cell_type": "code",
   "execution_count": 11,
   "metadata": {},
   "outputs": [
    {
     "name": "stdout",
     "output_type": "stream",
     "text": [
      "[['Produto2', 6], ['Produto3', 7], ['Produto5', 8], ['Produto1', 13], ['Produto4', 50]]\n"
     ]
    }
   ],
   "source": [
    "# Ordenando lista de produtos pelo preço (indice 1), utilizando lambda\n",
    "\n",
    "lista_de_produtos = [\n",
    "    ['Produto1', 13],\n",
    "    ['Produto2', 6],\n",
    "    ['Produto3', 7],\n",
    "    ['Produto4', 50],\n",
    "    ['Produto5', 8]\n",
    "]\n",
    "\n",
    "lista_de_produtos.sort(key= lambda item: item[1])\n",
    "print(lista_de_produtos)"
   ]
  },
  {
   "cell_type": "code",
   "execution_count": 12,
   "metadata": {},
   "outputs": [
    {
     "name": "stdout",
     "output_type": "stream",
     "text": [
      "[['Produto4', 50], ['Produto1', 13], ['Produto5', 8], ['Produto3', 7], ['Produto2', 6]]\n"
     ]
    }
   ],
   "source": [
    "# imprimir a lista de produtos, iniciando do maior preço para o menor\n",
    "lista_de_produtos.sort(key= lambda item: item[1], reverse=True)\n",
    "print(lista_de_produtos)"
   ]
  },
  {
   "cell_type": "code",
   "execution_count": 13,
   "metadata": {},
   "outputs": [
    {
     "data": {
      "text/plain": [
       "[['Produto4', 50],\n",
       " ['Produto1', 13],\n",
       " ['Produto5', 8],\n",
       " ['Produto3', 7],\n",
       " ['Produto2', 6]]"
      ]
     },
     "execution_count": 13,
     "metadata": {},
     "output_type": "execute_result"
    }
   ],
   "source": [
    "# a ordenacao feita no passo anterior, alterou a lista\n",
    "lista_de_produtos"
   ]
  },
  {
   "cell_type": "code",
   "execution_count": 14,
   "metadata": {},
   "outputs": [],
   "source": [
    "# ordenar a lista de produtos, iniciando do maior preço para o menor, SEM editar a lista (usar o sorted)\n",
    "\n",
    "lista_de_produtos = [\n",
    "    ['Produto1', 13],\n",
    "    ['Produto2', 6],\n",
    "    ['Produto3', 7],\n",
    "    ['Produto4', 50],\n",
    "    ['Produto5', 8]\n",
    "]"
   ]
  },
  {
   "cell_type": "code",
   "execution_count": 15,
   "metadata": {},
   "outputs": [
    {
     "data": {
      "text/plain": [
       "[['Produto1', 13],\n",
       " ['Produto2', 6],\n",
       " ['Produto3', 7],\n",
       " ['Produto4', 50],\n",
       " ['Produto5', 8]]"
      ]
     },
     "execution_count": 15,
     "metadata": {},
     "output_type": "execute_result"
    }
   ],
   "source": [
    "# conferindo a ordem original que foi criada a lista\n",
    "lista_de_produtos"
   ]
  },
  {
   "cell_type": "code",
   "execution_count": 16,
   "metadata": {},
   "outputs": [
    {
     "name": "stdout",
     "output_type": "stream",
     "text": [
      "[['Produto2', 6], ['Produto3', 7], ['Produto5', 8], ['Produto1', 13], ['Produto4', 50]]\n"
     ]
    }
   ],
   "source": [
    "# ordenar utilizando o sorted, iniciando do maior preço para o menor\n",
    "print(sorted(lista_de_produtos, key = lambda item : item[1]))"
   ]
  },
  {
   "cell_type": "code",
   "execution_count": 17,
   "metadata": {},
   "outputs": [
    {
     "name": "stdout",
     "output_type": "stream",
     "text": [
      "[['Produto4', 50], ['Produto1', 13], ['Produto5', 8], ['Produto3', 7], ['Produto2', 6]]\n"
     ]
    }
   ],
   "source": [
    "# ordenar utilizando o sorted com reverse\n",
    "print(sorted(lista_de_produtos, key = lambda item : item[1], reverse=True))"
   ]
  },
  {
   "cell_type": "code",
   "execution_count": 18,
   "metadata": {},
   "outputs": [
    {
     "data": {
      "text/plain": [
       "[['Produto1', 13],\n",
       " ['Produto2', 6],\n",
       " ['Produto3', 7],\n",
       " ['Produto4', 50],\n",
       " ['Produto5', 8]]"
      ]
     },
     "execution_count": 18,
     "metadata": {},
     "output_type": "execute_result"
    }
   ],
   "source": [
    "# conferir a lista nao sofreu alterações\n",
    "lista_de_produtos"
   ]
  },
  {
   "cell_type": "markdown",
   "metadata": {},
   "source": [
    "## Import"
   ]
  },
  {
   "cell_type": "code",
   "execution_count": 19,
   "metadata": {},
   "outputs": [],
   "source": [
    "from random import randrange"
   ]
  },
  {
   "cell_type": "code",
   "execution_count": 20,
   "metadata": {},
   "outputs": [
    {
     "data": {
      "text/plain": [
       "3"
      ]
     },
     "execution_count": 20,
     "metadata": {},
     "output_type": "execute_result"
    }
   ],
   "source": [
    "# Exibir um valor qualquer entre 0 e 10 (incluindo o 10)\n",
    "# Exemplo range(start, stop, step), ou seja, inicia em 0, para no 11 (não inclui o 11)\n",
    "# Sempre que der o shift+enter ele gera um valor diferente\n",
    "randrange(0,11,1)"
   ]
  },
  {
   "cell_type": "code",
   "execution_count": 21,
   "metadata": {},
   "outputs": [],
   "source": [
    "# criar uma lista vazia\n",
    "# colocar notas dentro da lista\n",
    "# exibir as notas\n",
    "\n",
    "notas_matematica = []\n",
    "notas_matematica.append(randrange(0,11))"
   ]
  },
  {
   "cell_type": "code",
   "execution_count": 22,
   "metadata": {},
   "outputs": [
    {
     "data": {
      "text/plain": [
       "[3]"
      ]
     },
     "execution_count": 22,
     "metadata": {},
     "output_type": "execute_result"
    }
   ],
   "source": [
    "# gera apenas 1 nota\n",
    "notas_matematica"
   ]
  },
  {
   "cell_type": "code",
   "execution_count": 23,
   "metadata": {},
   "outputs": [
    {
     "data": {
      "text/plain": [
       "[10, 1, 10, 2, 2, 1, 3, 7]"
      ]
     },
     "execution_count": 23,
     "metadata": {},
     "output_type": "execute_result"
    }
   ],
   "source": [
    "# considerar 4 bimestres, cada bimestre com 2 notas, totalizando 8 notas por ano letivo\n",
    "# armazenar as 8 notas na lista\n",
    "notas_matematica = []\n",
    "for nota in range(8):\n",
    "    notas_matematica.append(randrange(0,11))\n",
    "\n",
    "# exibir as 8 notas geradas\n",
    "notas_matematica"
   ]
  },
  {
   "cell_type": "code",
   "execution_count": 24,
   "metadata": {},
   "outputs": [
    {
     "data": {
      "text/plain": [
       "8"
      ]
     },
     "execution_count": 24,
     "metadata": {},
     "output_type": "execute_result"
    }
   ],
   "source": [
    "# verificar tamanho da lista\n",
    "len(notas_matematica)"
   ]
  },
  {
   "cell_type": "markdown",
   "metadata": {},
   "source": [
    "## Utilizando for"
   ]
  },
  {
   "cell_type": "code",
   "execution_count": 25,
   "metadata": {},
   "outputs": [
    {
     "name": "stdout",
     "output_type": "stream",
     "text": [
      "u\n",
      "m\n",
      "a\n",
      "s\n",
      "t\n",
      "r\n",
      "i\n",
      "n\n",
      "g\n"
     ]
    }
   ],
   "source": [
    "for i in 'umastring':\n",
    "    print(i)"
   ]
  },
  {
   "cell_type": "code",
   "execution_count": 26,
   "metadata": {},
   "outputs": [
    {
     "name": "stdout",
     "output_type": "stream",
     "text": [
      "banana\n",
      "maça\n",
      "abacate\n",
      "pera\n"
     ]
    }
   ],
   "source": [
    "lista = ['banana', 'maça', 'abacate', 'pera']\n",
    "for i in lista:\n",
    "    print(i)"
   ]
  },
  {
   "cell_type": "code",
   "execution_count": 27,
   "metadata": {},
   "outputs": [
    {
     "name": "stdout",
     "output_type": "stream",
     "text": [
      "banana\n",
      "maça\n",
      "pera\n"
     ]
    }
   ],
   "source": [
    "# imprimir a lista de frutas exceto o abacate\n",
    "lista = ['banana', 'maça', 'abacate', 'pera']\n",
    "for i in lista:\n",
    "    if i == 'abacate':\n",
    "        continue\n",
    "    print(i)"
   ]
  },
  {
   "cell_type": "code",
   "execution_count": 28,
   "metadata": {},
   "outputs": [
    {
     "name": "stdout",
     "output_type": "stream",
     "text": [
      "banana\n",
      "abacate\n",
      "pera\n"
     ]
    }
   ],
   "source": [
    "# imprimir a lista de frutas exceto a maça\n",
    "lista = ['banana', 'maça', 'abacate', 'pera']\n",
    "for i in lista:\n",
    "    if i == 'maça':\n",
    "        continue\n",
    "    print(i)"
   ]
  },
  {
   "cell_type": "code",
   "execution_count": 29,
   "metadata": {},
   "outputs": [
    {
     "name": "stdout",
     "output_type": "stream",
     "text": [
      "banana\n",
      "maça\n",
      "abacate\n"
     ]
    }
   ],
   "source": [
    "# imprimir a lista de frutas exceto a pera\n",
    "lista = ['banana', 'maça', 'abacate', 'pera']\n",
    "for i in lista:\n",
    "    if i == 'pera':\n",
    "        continue\n",
    "    print(i)"
   ]
  },
  {
   "cell_type": "code",
   "execution_count": 30,
   "metadata": {},
   "outputs": [
    {
     "name": "stdout",
     "output_type": "stream",
     "text": [
      "maça\n",
      "abacate\n",
      "pera\n"
     ]
    }
   ],
   "source": [
    "# imprimir a lista de frutas exceto a banana\n",
    "lista = ['banana', 'maça', 'abacate', 'pera']\n",
    "for i in lista:\n",
    "    if i == 'banana':\n",
    "        continue\n",
    "    print(i)"
   ]
  },
  {
   "cell_type": "code",
   "execution_count": 31,
   "metadata": {},
   "outputs": [
    {
     "name": "stdout",
     "output_type": "stream",
     "text": [
      "1\n",
      "2\n",
      "3\n",
      "4\n",
      "5\n",
      "6\n",
      "7\n",
      "8\n",
      "9\n"
     ]
    }
   ],
   "source": [
    "# imprimindo numeros de 1 à 9\n",
    "for i in range(1,10):\n",
    "    print(i)"
   ]
  },
  {
   "cell_type": "code",
   "execution_count": 32,
   "metadata": {},
   "outputs": [
    {
     "name": "stdout",
     "output_type": "stream",
     "text": [
      "0\n",
      "1\n",
      "2\n",
      "3\n",
      "4\n",
      "5\n"
     ]
    }
   ],
   "source": [
    "# imprimindo numeros de 0 à 5\n",
    "for i in range(6):\n",
    "    print(i)"
   ]
  },
  {
   "cell_type": "markdown",
   "metadata": {},
   "source": [
    "## Tipos numéricos"
   ]
  },
  {
   "cell_type": "code",
   "execution_count": 33,
   "metadata": {},
   "outputs": [],
   "source": [
    "x = 1    # int\n",
    "y = 2.8  # float\n",
    "z = 1j   # complex"
   ]
  },
  {
   "cell_type": "code",
   "execution_count": 34,
   "metadata": {},
   "outputs": [
    {
     "name": "stdout",
     "output_type": "stream",
     "text": [
      "<class 'int'>\n",
      "<class 'float'>\n",
      "<class 'complex'>\n"
     ]
    }
   ],
   "source": [
    "print(type(x))\n",
    "print(type(y))\n",
    "print(type(z))"
   ]
  },
  {
   "cell_type": "markdown",
   "metadata": {},
   "source": [
    "# Importando Biblioteca Matplotlib para visualizar gráficos"
   ]
  },
  {
   "cell_type": "code",
   "execution_count": 35,
   "metadata": {},
   "outputs": [],
   "source": [
    "# Exemplo: exibir grafico\n",
    "# eixo x representa as provas\n",
    "# eixo y representa as notas\n",
    "\n",
    "import matplotlib.pyplot as plt\n",
    "%matplotlib inline"
   ]
  },
  {
   "cell_type": "code",
   "execution_count": 36,
   "metadata": {},
   "outputs": [],
   "source": [
    "x = list(range(1,9))"
   ]
  },
  {
   "cell_type": "code",
   "execution_count": 37,
   "metadata": {},
   "outputs": [
    {
     "data": {
      "text/plain": [
       "[1, 2, 3, 4, 5, 6, 7, 8]"
      ]
     },
     "execution_count": 37,
     "metadata": {},
     "output_type": "execute_result"
    }
   ],
   "source": [
    "x"
   ]
  },
  {
   "cell_type": "code",
   "execution_count": 38,
   "metadata": {},
   "outputs": [
    {
     "data": {
      "text/plain": [
       "[10, 1, 10, 2, 2, 1, 3, 7]"
      ]
     },
     "execution_count": 38,
     "metadata": {},
     "output_type": "execute_result"
    }
   ],
   "source": [
    "y = notas_matematica\n",
    "y"
   ]
  },
  {
   "cell_type": "code",
   "execution_count": 39,
   "metadata": {},
   "outputs": [
    {
     "data": {
      "text/plain": [
       "[<matplotlib.lines.Line2D at 0x2307d2c6a90>]"
      ]
     },
     "execution_count": 39,
     "metadata": {},
     "output_type": "execute_result"
    },
    {
     "data": {
      "image/png": "[encoded data removed]",
      "text/plain": [
       "<Figure size 432x288 with 1 Axes>"
      ]
     },
     "metadata": {
      "needs_background": "light"
     },
     "output_type": "display_data"
    }
   ],
   "source": [
    "# exemplo plotar \n",
    "plt.plot(x, y)"
   ]
  },
  {
   "cell_type": "code",
   "execution_count": 40,
   "metadata": {},
   "outputs": [
    {
     "data": {
      "image/png": "[encoded data removed]",
      "text/plain": [
       "<Figure size 432x288 with 1 Axes>"
      ]
     },
     "metadata": {
      "needs_background": "light"
     },
     "output_type": "display_data"
    }
   ],
   "source": [
    "# melhorando o grafico\n",
    "plt.plot(x,y, color='green')\n",
    "plt.scatter(x, y, color='red')\n",
    "plt.title('Notas de matemática')\n",
    "plt.xlabel('Provas')\n",
    "plt.ylabel('Notas')\n",
    "plt.show()"
   ]
  },
  {
   "cell_type": "code",
   "execution_count": 41,
   "metadata": {},
   "outputs": [
    {
     "data": {
      "text/plain": [
       "[10, 1, 10, 2, 2, 1, 3, 7]"
      ]
     },
     "execution_count": 41,
     "metadata": {},
     "output_type": "execute_result"
    }
   ],
   "source": [
    "notas_matematica"
   ]
  },
  {
   "cell_type": "code",
   "execution_count": 42,
   "metadata": {},
   "outputs": [],
   "source": [
    "# criando um grafico para cada matéria escolar\n",
    "notas_historia = ['História',8,7,6,6,7,7,8,10]\n",
    "notas_portugues = ['Português',9,9,9,8,5,6,8,5]\n",
    "notas_geografia = ['Geografia',10,10,6,7,7,7,8,7]\n",
    "\n",
    "notas = [notas_historia, notas_portugues, notas_geografia]"
   ]
  },
  {
   "cell_type": "code",
   "execution_count": 43,
   "metadata": {},
   "outputs": [
    {
     "data": {
      "image/png": "[encoded data removed]",
      "text/plain": [
       "<Figure size 432x288 with 1 Axes>"
      ]
     },
     "metadata": {
      "needs_background": "light"
     },
     "output_type": "display_data"
    },
    {
     "data": {
      "image/png": "[encoded data removed]",
      "text/plain": [
       "<Figure size 432x288 with 1 Axes>"
      ]
     },
     "metadata": {
      "needs_background": "light"
     },
     "output_type": "display_data"
    },
    {
     "data": {
      "image/png": "[encoded data removed]",
      "text/plain": [
       "<Figure size 432x288 with 1 Axes>"
      ]
     },
     "metadata": {
      "needs_background": "light"
     },
     "output_type": "display_data"
    }
   ],
   "source": [
    "for nota in notas:\n",
    "    x = list(range(1, 9))\n",
    "    y = nota[1:]\n",
    "    plt.plot(x, y, marker='o')\n",
    "    plt.xlabel('Provas')\n",
    "    plt.ylabel('Notas')\n",
    "    plt.title(nota[0])\n",
    "    plt.show()"
   ]
  }
 ],
 "metadata": {
  "kernelspec": {
   "display_name": "Python 3",
   "language": "python",
   "name": "python3"
  },
  "language_info": {
   "codemirror_mode": {
    "name": "ipython",
    "version": 3
   },
   "file_extension": ".py",
   "mimetype": "text/x-python",
   "name": "python",
   "nbconvert_exporter": "python",
   "pygments_lexer": "ipython3",
   "version": "3.8.3"
  }
 },
 "nbformat": 4,
 "nbformat_minor": 4
}
