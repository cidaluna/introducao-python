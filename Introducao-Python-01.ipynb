{
 "cells": [
  {
   "cell_type": "markdown",
   "metadata": {},
   "source": [
    "# Introdução - Lógica de Programação - Python 01"
   ]
  },
  {
   "cell_type": "code",
   "execution_count": 1,
   "metadata": {},
   "outputs": [
    {
     "data": {
      "text/plain": [
       "2"
      ]
     },
     "execution_count": 1,
     "metadata": {},
     "output_type": "execute_result"
    }
   ],
   "source": [
    "1+1"
   ]
  },
  {
   "cell_type": "code",
   "execution_count": 2,
   "metadata": {},
   "outputs": [
    {
     "data": {
      "text/plain": [
       "'Cida Luna'"
      ]
     },
     "execution_count": 2,
     "metadata": {},
     "output_type": "execute_result"
    }
   ],
   "source": [
    "# usar aspas simples ou dupla.. o mais comum é o uso das aspas simples\n",
    "'Cida Luna'"
   ]
  },
  {
   "cell_type": "code",
   "execution_count": 6,
   "metadata": {},
   "outputs": [
    {
     "data": {
      "text/plain": [
       "'Cida Luna'"
      ]
     },
     "execution_count": 6,
     "metadata": {},
     "output_type": "execute_result"
    }
   ],
   "source": [
    "# armazenando informacao numa variavel\n",
    "nome = 'Cida Luna'\n",
    "nome"
   ]
  },
  {
   "cell_type": "code",
   "execution_count": 7,
   "metadata": {},
   "outputs": [
    {
     "data": {
      "text/plain": [
       "34"
      ]
     },
     "execution_count": 7,
     "metadata": {},
     "output_type": "execute_result"
    }
   ],
   "source": [
    "idade = 34\n",
    "idade"
   ]
  },
  {
   "cell_type": "code",
   "execution_count": 11,
   "metadata": {},
   "outputs": [
    {
     "name": "stdout",
     "output_type": "stream",
     "text": [
      "O nome é Cida Luna e a idade é 34\n"
     ]
    }
   ],
   "source": [
    "# utilizando a função print (imprime na tela)\n",
    "print(f'O nome é {nome} e a idade é {idade}')"
   ]
  },
  {
   "cell_type": "markdown",
   "metadata": {},
   "source": [
    "## Criando minha primeira função"
   ]
  },
  {
   "cell_type": "code",
   "execution_count": 14,
   "metadata": {},
   "outputs": [],
   "source": [
    "def saudacao():\n",
    "    nome = input('Qual o seu nome? ')\n",
    "    print(f'Olá {nome}!')"
   ]
  },
  {
   "cell_type": "code",
   "execution_count": 15,
   "metadata": {},
   "outputs": [
    {
     "name": "stdout",
     "output_type": "stream",
     "text": [
      "Qual o seu nome? Cida\n",
      "Olá Cida!\n"
     ]
    }
   ],
   "source": [
    "# chamar/executar a função\n",
    "saudacao()"
   ]
  },
  {
   "cell_type": "code",
   "execution_count": 16,
   "metadata": {},
   "outputs": [
    {
     "name": "stdout",
     "output_type": "stream",
     "text": [
      "Qual o seu nome? Guilherme\n",
      "Olá Guilherme!\n"
     ]
    }
   ],
   "source": [
    "saudacao()"
   ]
  },
  {
   "cell_type": "code",
   "execution_count": 17,
   "metadata": {},
   "outputs": [],
   "source": [
    "# função que solicita primeiro nome e o sobrenome e imprime o nome completo\n",
    "def nome_completo():\n",
    "    primeiro_nome = input('Qual é seu primeiro nome? ')\n",
    "    ultimo_nome = input('E o seu sobrenome? ')\n",
    "    nome_completo = primeiro_nome + ' '+ ultimo_nome\n",
    "    print(nome_completo)"
   ]
  },
  {
   "cell_type": "code",
   "execution_count": 18,
   "metadata": {},
   "outputs": [
    {
     "name": "stdout",
     "output_type": "stream",
     "text": [
      "Qual é seu primeiro nome? Cida\n",
      "E o seu sobrenome? Luna\n",
      "Cida Luna\n"
     ]
    }
   ],
   "source": [
    "nome_completo()"
   ]
  },
  {
   "cell_type": "code",
   "execution_count": 19,
   "metadata": {},
   "outputs": [],
   "source": [
    "nome = 'Luiza'"
   ]
  },
  {
   "cell_type": "code",
   "execution_count": 24,
   "metadata": {},
   "outputs": [],
   "source": [
    "# funcao que recebe parametro(s)\n",
    "def saudacao_com_parametro(nome_da_pessoa):\n",
    "    print(f'Olá {nome_da_pessoa}!!')"
   ]
  },
  {
   "cell_type": "code",
   "execution_count": 25,
   "metadata": {},
   "outputs": [
    {
     "name": "stdout",
     "output_type": "stream",
     "text": [
      "Olá Luiza!!\n"
     ]
    }
   ],
   "source": [
    "saudacao_com_parametro(nome)"
   ]
  },
  {
   "cell_type": "markdown",
   "metadata": {},
   "source": [
    "## Condicional"
   ]
  },
  {
   "cell_type": "code",
   "execution_count": 35,
   "metadata": {},
   "outputs": [],
   "source": [
    "idade = 20"
   ]
  },
  {
   "cell_type": "code",
   "execution_count": 36,
   "metadata": {},
   "outputs": [],
   "source": [
    "# funcao que verifica idade enviada por parametro e imprime frase se tem ou nao permissao para dirigir\n",
    "\n",
    "def permissao_dirigir(idade_da_pessoa):\n",
    "    if idade_da_pessoa >= 18:\n",
    "        print('Tem permissão para dirigir.')\n",
    "    else:\n",
    "        print('Não têm permissão para dirigir!')"
   ]
  },
  {
   "cell_type": "code",
   "execution_count": 37,
   "metadata": {},
   "outputs": [
    {
     "name": "stdout",
     "output_type": "stream",
     "text": [
      "Tem permissão para dirigir.\n"
     ]
    }
   ],
   "source": [
    "permissao_dirigir(idade)"
   ]
  },
  {
   "cell_type": "code",
   "execution_count": 38,
   "metadata": {},
   "outputs": [],
   "source": [
    "idade = 15"
   ]
  },
  {
   "cell_type": "code",
   "execution_count": 39,
   "metadata": {},
   "outputs": [
    {
     "name": "stdout",
     "output_type": "stream",
     "text": [
      "Não têm permissão para dirigir!\n"
     ]
    }
   ],
   "source": [
    "permissao_dirigir(idade)"
   ]
  },
  {
   "cell_type": "code",
   "execution_count": 40,
   "metadata": {},
   "outputs": [],
   "source": [
    "# funcao sem parametros, que verifica idade e imprime frase se tem ou nao permissao para dirigir\n",
    "\n",
    "def permissao_dirigir_sem_parametros():\n",
    "    idade = int(input('Qual é a sua idade? '))\n",
    "    if idade >= 18:\n",
    "        print('Tem permissão para dirigir.')\n",
    "    else:\n",
    "        print('Não têm permissão para dirigir!!!')"
   ]
  },
  {
   "cell_type": "code",
   "execution_count": 41,
   "metadata": {},
   "outputs": [
    {
     "name": "stdout",
     "output_type": "stream",
     "text": [
      "Qual é a sua idade? 22\n",
      "Tem permissão para dirigir.\n"
     ]
    }
   ],
   "source": [
    "permissao_dirigir_sem_parametros()"
   ]
  },
  {
   "cell_type": "code",
   "execution_count": 42,
   "metadata": {},
   "outputs": [
    {
     "name": "stdout",
     "output_type": "stream",
     "text": [
      "Qual é a sua idade? 17\n",
      "Não têm permissão para dirigir!!!\n"
     ]
    }
   ],
   "source": [
    "permissao_dirigir_sem_parametros()"
   ]
  },
  {
   "cell_type": "code",
   "execution_count": 44,
   "metadata": {},
   "outputs": [],
   "source": [
    "# Sabendo que, a distância até a padaria 100 metros e o percurso é feito em 20 segundos\n",
    "# fazer funcao que receba esses 2 parametros e calcule a velocidade média\n",
    "# Dividindo o espaço percorrido pelo tempo\n",
    "\n",
    "def velocidade(espaco, tempo):\n",
    "    v = espaco / tempo\n",
    "    print(f'Velocidade = {v} metros por segundo (m/s)')"
   ]
  },
  {
   "cell_type": "code",
   "execution_count": 45,
   "metadata": {},
   "outputs": [
    {
     "name": "stdout",
     "output_type": "stream",
     "text": [
      "Velocidade = 5.0 metros por segundo (m/s)\n"
     ]
    }
   ],
   "source": [
    "velocidade(100,20)"
   ]
  },
  {
   "cell_type": "code",
   "execution_count": 48,
   "metadata": {},
   "outputs": [],
   "source": [
    "# funcao para descobrir quantos anos faltam para tirar a Habilitação, caso nao tenha idade permitida\n",
    "\n",
    "def habilitacao():\n",
    "    sua_idade = int(input('Qual sua idade? '))\n",
    "    if sua_idade >= 18:\n",
    "        print('Pode tirar habilitação')\n",
    "    else:\n",
    "        tempo = 18 - sua_idade\n",
    "        print(f'Calma... espere {tempo} ano(s) para tirar habilitação')\n",
    "\n"
   ]
  },
  {
   "cell_type": "code",
   "execution_count": 49,
   "metadata": {},
   "outputs": [
    {
     "name": "stdout",
     "output_type": "stream",
     "text": [
      "Qual sua idade? 55\n",
      "Pode tirar habilitação\n"
     ]
    }
   ],
   "source": [
    "habilitacao()"
   ]
  },
  {
   "cell_type": "code",
   "execution_count": 50,
   "metadata": {},
   "outputs": [
    {
     "name": "stdout",
     "output_type": "stream",
     "text": [
      "Qual sua idade? 10\n",
      "Calma... espere 8 ano(s) para tirar habilitação\n"
     ]
    }
   ],
   "source": [
    "habilitacao()"
   ]
  },
  {
   "cell_type": "code",
   "execution_count": 51,
   "metadata": {},
   "outputs": [
    {
     "name": "stdout",
     "output_type": "stream",
     "text": [
      "Qual sua idade? 17\n",
      "Calma... espere 1 ano(s) para tirar habilitação\n"
     ]
    }
   ],
   "source": [
    "habilitacao()"
   ]
  },
  {
   "cell_type": "code",
   "execution_count": null,
   "metadata": {},
   "outputs": [],
   "source": []
  }
 ],
 "metadata": {
  "kernelspec": {
   "display_name": "Python 3",
   "language": "python",
   "name": "python3"
  },
  "language_info": {
   "codemirror_mode": {
    "name": "ipython",
    "version": 3
   },
   "file_extension": ".py",
   "mimetype": "text/x-python",
   "name": "python",
   "nbconvert_exporter": "python",
   "pygments_lexer": "ipython3",
   "version": "3.8.3"
  }
 },
 "nbformat": 4,
 "nbformat_minor": 4
}
